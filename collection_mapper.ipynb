{
 "cells": [
  {
   "cell_type": "markdown",
   "metadata": {},
   "source": [
    "**Collection Mapper**\n",
    "\n",
    "This module will assist MV collection system layout design and output a KML file.\n",
    "\n",
    "> Troubleshooting: Run each cell starting from the beginning, and un-comment print statements to pinpoint the error. \n",
    "\n",
    "> Editing: Reference Networkx, SimpleKML, and Python documentation for help making changes. Ask ChatGPT for support as needed."
   ]
  },
  {
   "cell_type": "markdown",
   "metadata": {},
   "source": [
    "First-time users will need to install the following libraries: Networkx, Matplotlib, Numpy, tldraw, and SimpleKML. Remove all single quotes and run the following cell."
   ]
  },
  {
   "cell_type": "code",
   "execution_count": null,
   "metadata": {},
   "outputs": [],
   "source": [
    "'''\n",
    "import pip\n",
    "pip.main([\"install\", \"networkx\"])\n",
    "pip.main([\"install\", \"matplotlib\"])\n",
    "pip.main([\"install\", \"numpy\"])\n",
    "pip.main([\"install\", \"tldraw\"])\n",
    "pip.main([\"install\", \"simplekml\"])\n",
    "'''"
   ]
  },
  {
   "cell_type": "markdown",
   "metadata": {},
   "source": [
    "**Inputs**\n",
    "\n",
    "**Data Preparation:**\n",
    "- Load the WTG array KMZ into Global Mapper\n",
    "- Add the substation as a point feature\n",
    "- Create coordinate attributes (select all points using the Digitizer and right click > Attribute/Style Functions > Add Coordinates)\n",
    "- Export CSV (open Layer Attributes to export and use only columns for Feature Name, X, and Y)\n",
    ">Check sample CSV's if you have trouble with the data format\n",
    "\n",
    "**In the cell below, enter the following information:**\n",
    "1. CSV file containing location data: WTG & substation names in the first column, latitude in the second column, logitude in the third column\n",
    "2. Substation name\n",
    "3. Number of WTG's per feeder"
   ]
  },
  {
   "cell_type": "code",
   "execution_count": 102,
   "metadata": {},
   "outputs": [],
   "source": [
    "datafile = 'wtgdata_nimbus.csv'\n",
    "\n",
    "sub = 'S0'\n",
    "\n",
    "capacity = 5"
   ]
  },
  {
   "cell_type": "markdown",
   "metadata": {},
   "source": [
    "Clean the lat/long data exported from Global Mapper, and create a data structure containing the locations of each point."
   ]
  },
  {
   "cell_type": "code",
   "execution_count": null,
   "metadata": {},
   "outputs": [],
   "source": [
    "# Read CSV into a list\n",
    "import csv\n",
    "wtg_init = []\n",
    "with open(datafile) as data:\n",
    "    D = csv.reader(data, delimiter = \",\")\n",
    "    for row in D:\n",
    "        wtg_init.append(row)\n",
    "wtg_init = wtg_init[1:]\n",
    "#print(wtg_init)\n",
    "\n",
    "# Format lat/long data: check for quadrant and change type to float\n",
    "# Create a dictionary data structure to hold coordinates for each point\n",
    "# Ex. ['S00', '95.13234222? W', '42.00511659? N'] becomes {'S00': (-95.13234222, 42.00511659)}\n",
    "if 'W' in wtg_init[1][1]:\n",
    "    if 'N' in wtg_init[1][2]:\n",
    "        for i in wtg_init:\n",
    "            i[1] = -1*float(i[1].split('?')[0])\n",
    "            i[2] = float(i[2].split('?')[0])\n",
    "    else:\n",
    "        for i in wtg_init:\n",
    "            i[1] = -1*float(i[1].split('?')[0])\n",
    "            i[2] = -1*float(i[2].split('?')[0])\n",
    "else:\n",
    "    if 'N' in wtg_init[1][2]:\n",
    "        for i in wtg_init:\n",
    "            i[1] = float(i[1].split('?')[0])\n",
    "            i[2] = float(i[2].split('?')[0])\n",
    "    else:\n",
    "        for i in wtg_init:\n",
    "            i[1] = float(i[1].split('?')[0])\n",
    "            i[2] = -1*float(i[2].split('?')[0])\n",
    "\n",
    "pos_dict = {}\n",
    "for i in wtg_init:\n",
    "    pos_dict[i[0]] = (float(i[1]),float(i[2]))\n",
    "print(pos_dict)\n",
    "\n",
    "if sub not in pos_dict:\n",
    "    print('\\033[1m' + 'Error: Substation name is not included in the input data.' + '\\033[0m')"
   ]
  },
  {
   "cell_type": "markdown",
   "metadata": {},
   "source": [
    "A weighted graph containing all possible connections in the WTG network is created. Optimal paths will be selected from this graph in the following steps."
   ]
  },
  {
   "cell_type": "code",
   "execution_count": null,
   "metadata": {},
   "outputs": [],
   "source": [
    "# Create a weighted graph of all possible turbine connections. \n",
    "# Weights are calculated as distances between points. \n",
    "wtg_network = []\n",
    "for i in wtg_init:\n",
    "    for j in wtg_init:\n",
    "        flag = 0\n",
    "        if i != j:\n",
    "            distance =( (float(i[1])-float(j[1]))**2 + (float(i[2])-float(j[2]))**2 )**0.5\n",
    "            for k in wtg_network:\n",
    "                if k[0] == j[0] and k[1] == i[0]:\n",
    "                    flag = 1\n",
    "            if flag == 0:\n",
    "                wtg_network.append([i[0],j[0],distance])\n",
    "\n",
    "import networkx as nx\n",
    "G = nx.Graph()\n",
    "G.add_weighted_edges_from(wtg_network)\n",
    "\n",
    "nx.draw_networkx(G, pos=pos_dict, with_labels=True)"
   ]
  },
  {
   "cell_type": "markdown",
   "metadata": {},
   "source": [
    "**Sharma's Heuristic for a Capacitated Minimum Spanning Tree with no crossings**\n",
    "\n",
    "_Sharma RL, El-Bardai MT (1970) Suboptimal communications network synthesis. Proceedings 1970 International Conference on Communications._\n",
    "\n",
    "1. Calculate angle of all points relative to the substation, and sort\n",
    "2. Group points in order\n",
    "3. Add the substation to each group and construct minimum spanning trees\n",
    "4. Find the version with the minimum weight"
   ]
  },
  {
   "cell_type": "code",
   "execution_count": null,
   "metadata": {},
   "outputs": [],
   "source": [
    "import networkx as nx\n",
    "import numpy as np\n",
    "import matplotlib.pyplot as plt\n",
    "import math\n",
    "\n",
    "# Function to calculate the angle from a center point\n",
    "def calculate_angle(point, center):\n",
    "    dx = point[0] - center[0]\n",
    "    dy = point[1] - center[1]\n",
    "    angle = math.atan2(dy, dx)\n",
    "    return angle\n",
    "\n",
    "# Function to find MST for a list of points\n",
    "def find_mst_edges(point_list, graph):\n",
    "    # Create a MST subgraph\n",
    "    subgraph = graph.subgraph(point_list)\n",
    "    mst = nx.minimum_spanning_tree(subgraph)\n",
    "    \n",
    "    # Extract edges from the MST\n",
    "    mst_edges = []\n",
    "    for u, v, data in mst.edges(data=True):\n",
    "        mst_edges.append([u, v, data['weight']])\n",
    "    return mst_edges\n",
    "\n",
    "# Function to find the weight of a graph\n",
    "def distance_calc(lines):\n",
    "    total_weight = 0\n",
    "    for i in lines:\n",
    "        total_weight += i[2]\n",
    "    total_weight *= 325000\n",
    "    return total_weight\n",
    "\n",
    "# Create a dictionary with angles from the center\n",
    "center = pos_dict[sub]\n",
    "angles_dict = {key: calculate_angle(value, center) for key, value in pos_dict.items()}\n",
    "\n",
    "# Sort the dictionary by angle\n",
    "sorted_angles = sorted(angles_dict.items(), key=lambda item: item[1])\n",
    "\n",
    "# Create a list of keys from the sorted dictionary\n",
    "sorted_keys = [item[0] for item in sorted_angles]\n",
    "sorted_keys.remove(sub)\n",
    "\n",
    "# Create list of list of lists containing iterations of Sharma's CMST = capacity\n",
    "counter = capacity\n",
    "sharma = []\n",
    "while counter > 0:\n",
    "    sharma_versions = [sorted_keys[i:i+capacity] for i in range(0, len(sorted_keys), capacity)]\n",
    "    sorted_keys = sorted_keys[1:] + [sorted_keys[0]]\n",
    "    #print(sorted_keys)\n",
    "    #print(sharma_versions)\n",
    "    sharma += [sharma_versions]\n",
    "    counter -= 1\n",
    "for i in sharma:\n",
    "    for l in i:\n",
    "        l.append(sub)\n",
    "\n",
    "# Find the version with the minimum weight\n",
    "s_weights = []\n",
    "for j in sharma:\n",
    "    s_lines = []\n",
    "    for i in j:\n",
    "        s_lines += find_mst_edges(i, G)\n",
    "    s_weights += [distance_calc(s_lines)]\n",
    "print(s_weights)\n",
    "\n",
    "min_s = s_weights.index(min(s_weights))\n",
    "sharma = sharma.pop(min_s)\n",
    "print(sharma)\n",
    "s_lines = []\n",
    "for i in sharma:\n",
    "    s_lines += find_mst_edges(i, G)\n",
    "\n",
    "# Create and draw the graph\n",
    "G_s = nx.Graph()\n",
    "for i in sharma:\n",
    "    G_s.add_weighted_edges_from(s_lines)\n",
    "nx.draw_networkx(G_s, pos=pos_dict, with_labels=True, node_size=100, font_size = 8)"
   ]
  },
  {
   "cell_type": "markdown",
   "metadata": {},
   "source": [
    "**Minimum Spanning Tree**\n",
    "\n",
    "Connects all points along the shortest possible path. By default, the function uses Kruskal's Algorithm."
   ]
  },
  {
   "cell_type": "code",
   "execution_count": null,
   "metadata": {},
   "outputs": [],
   "source": [
    "print(\"Minimum Spanning Tree\")\n",
    "y = nx.minimum_spanning_tree(G)\n",
    "nx.draw_networkx(y, pos=pos_dict, with_labels=True, node_size=100, font_size = 8)"
   ]
  },
  {
   "cell_type": "markdown",
   "metadata": {},
   "source": [
    "**Optional Step**\n",
    "\n",
    "Download PNG from above and upload to the whiteboard tool below to draw WTG groups. Adjust dimensions as needed."
   ]
  },
  {
   "cell_type": "code",
   "execution_count": null,
   "metadata": {},
   "outputs": [],
   "source": [
    "from tldraw import TldrawWidget\n",
    "t = TldrawWidget(height = 500, width = 800)\n",
    "t"
   ]
  },
  {
   "cell_type": "markdown",
   "metadata": {},
   "source": [
    "**Input WTG Groups**\n",
    "\n",
    "Calculate how many WTG's can be connected to each feeder.\n",
    "For projects with multiple MPT's, put a balanced number of WTG's on each side.\n",
    "\n",
    ">The names of the turbines and substation must match the names from the CSV file."
   ]
  },
  {
   "cell_type": "code",
   "execution_count": 84,
   "metadata": {},
   "outputs": [],
   "source": [
    "# Input collection system here:\n",
    "collection = {}\n",
    "collection['11A'] = [sub, '']\n",
    "collection['11B'] = [sub, '']\n",
    "collection['12A'] = [sub, '']\n",
    "collection['12B'] = [sub, '']\n",
    "\n",
    "collection['21A'] = [sub, '']\n",
    "collection['21B'] = [sub, '']\n",
    "collection['22A'] = [sub, '']\n",
    "collection['22B'] = [sub, '']\n",
    "\n",
    "\n",
    "# Check for incorrect WTG names and duplicates\n",
    "col_inputs = []\n",
    "for k in collection:\n",
    "    for i in collection[k]:\n",
    "        if i not in pos_dict:\n",
    "            print(f'{i} is not in the input data.')\n",
    "        if i not in col_inputs or i is sub:\n",
    "            col_inputs.append(i)\n",
    "        else:\n",
    "            print(f'{i} has duplicate entries.')\n",
    "#print(col_inputs)"
   ]
  },
  {
   "cell_type": "markdown",
   "metadata": {},
   "source": [
    "The following cell calculates minimum spanning trees that connect each group of WTG's to the substation. An approximation of the total length is also provided. \n",
    "\n",
    ">Return to the previous cell and adjust the WTG groups until you are satisfied with the layout."
   ]
  },
  {
   "cell_type": "code",
   "execution_count": null,
   "metadata": {},
   "outputs": [],
   "source": [
    "def find_mst_edges(point_list, graph):\n",
    "    # Create a subgraph with the given points\n",
    "    subgraph = graph.subgraph(point_list)\n",
    "    \n",
    "    # Find the MST of the subgraph\n",
    "    mst = nx.minimum_spanning_tree(subgraph)\n",
    "    \n",
    "    # Extract edges from the MST\n",
    "    mst_edges = []\n",
    "    for u, v, data in mst.edges(data=True):\n",
    "        mst_edges.append([u, v, data['weight']])\n",
    "    \n",
    "    return mst_edges\n",
    "\n",
    "mst_collections = {key: find_mst_edges(points, G) for key, points in collection.items()}\n",
    "G_mst = nx.Graph()\n",
    "for k in mst_collections:\n",
    "    G_mst.add_weighted_edges_from(mst_collections[k])\n",
    "\n",
    "nx.draw_networkx(G_mst, pos=pos_dict, with_labels=True, node_size=100, font_size = 8)\n",
    "\n",
    "# Calculate total weight\n",
    "total_weight = 0\n",
    "for k in mst_collections:\n",
    "    for i in mst_collections[k]:\n",
    "        total_weight += i[2]\n",
    "total_weight *= 325000\n",
    "total_weight = round(total_weight, 2)\n",
    "\n",
    "print('\\033[1m' f\"Approx. Total Cable Length = {total_weight} ft ± 10%\" '\\033[0m')\n",
    "print(mst_collections)"
   ]
  },
  {
   "cell_type": "markdown",
   "metadata": {},
   "source": [
    "The load_calculator() function is used to calculate the number of WTG's descending from each line segment. This is important for the naming convention of line segments so that the cable schedule will autimatically size the cables."
   ]
  },
  {
   "cell_type": "code",
   "execution_count": null,
   "metadata": {},
   "outputs": [],
   "source": [
    "def load_calculator(edges):\n",
    "    Gx = nx.Graph()\n",
    "    Gx.clear()\n",
    "    \n",
    "    # Add edges to the graph\n",
    "    Gx.add_edges_from(edges)\n",
    "\n",
    "    # Perform BFS starting from substation\n",
    "    tree = list(nx.dfs_edges(Gx, source= sub))\n",
    "    #print(tree)\n",
    "\n",
    "    Gx.clear()\n",
    "    Gx = nx.DiGraph()\n",
    "    Gx.add_edges_from(tree)\n",
    "\n",
    "    # Display the DFS traversal order\n",
    "    dfs_order = [edge[1] for edge in tree]\n",
    "    #print(\"DFS Traversal Order:\", dfs_order)\n",
    "\n",
    "    tree = [list(t) for t in tree]\n",
    "\n",
    "    for i in dfs_order:\n",
    "        for j in tree:\n",
    "            if i == j[1]:\n",
    "                descendants = len(nx.descendants(Gx,i)) + 1\n",
    "                j.append(descendants)\n",
    "\n",
    "    #print(tree)\n",
    "    return tree\n",
    "\n",
    "# Copy mst collection, and replace distance with # of WTG's\n",
    "kml_drawer = mst_collections\n",
    "\n",
    "for k in kml_drawer:\n",
    "    kml_drawer[k] = [item[:2] for item in kml_drawer[k]]\n",
    " \n",
    "for k in kml_drawer:\n",
    "    #print(kml_drawer[k])\n",
    "    kml_drawer[k] = load_calculator(kml_drawer[k])\n",
    "print(kml_drawer)"
   ]
  },
  {
   "cell_type": "markdown",
   "metadata": {},
   "source": [
    "**Create KML**\n",
    "\n",
    "The kml_drawer and pos_dict data are used to draw line segments between points.\n",
    "\n",
    "Folders are named after the feeder.\n",
    "\n",
    "Line features are named \"[Start point] [End point] [# of WTG's]\" according to the cable schedule.\n",
    "\n",
    "The output file will be located in the same folder. Running this script will overwrite the file, so rename it if you want to keep multiple drafts. "
   ]
  },
  {
   "cell_type": "code",
   "execution_count": 89,
   "metadata": {},
   "outputs": [],
   "source": [
    "import simplekml\n",
    "kml = simplekml.Kml()\n",
    "\n",
    "# Set colors for each feeder\n",
    "colors = [\n",
    "    simplekml.Color.tomato,\n",
    "    simplekml.Color.thistle,\n",
    "    simplekml.Color.cornflowerblue,\n",
    "    simplekml.Color.magenta,\n",
    "    simplekml.Color.gold,\n",
    "    simplekml.Color.cyan, \n",
    "    simplekml.Color.orchid, \n",
    "    simplekml.Color.red,\n",
    "    simplekml.Color.palegreen,\n",
    "    simplekml.Color.yellow,\n",
    "    simplekml.Color.olive, \n",
    "    simplekml.Color.blue\n",
    "    ]\n",
    "line_colors = {}\n",
    "for k in kml_drawer:\n",
    "    line_colors[k] = colors[0]\n",
    "    colors = colors[1:] + [colors[0]]\n",
    "\n",
    "for layer_desc, lines in kml_drawer.items():\n",
    "    # Create a folder for each layer\n",
    "    folder = kml.newfolder(name=layer_desc)\n",
    "    \n",
    "    # Iterate over each line in the layer\n",
    "    for line in lines:\n",
    "        start, end, attribute = line\n",
    "        # Get the coordinates from pos_dict\n",
    "        start_coords = pos_dict[start]\n",
    "        end_coords = pos_dict[end]\n",
    "        \n",
    "        # Create a linestring for each line\n",
    "        linestring = folder.newlinestring(\n",
    "            name=f\"{start} {end} {attribute}\",\n",
    "            coords=[(start_coords[0], start_coords[1]), (end_coords[0], end_coords[1])]\n",
    "        )\n",
    "        \n",
    "        # Add a description or other attributes if needed\n",
    "        linestring.description = f\"{layer_desc}\"\n",
    "        linestring.style.linestyle.color = line_colors[layer_desc]\n",
    "        linestring.style.linestyle.width = 2\n",
    "\n",
    "# Save the KML to a file\n",
    "kml.save(\"output.kml\")\n"
   ]
  }
 ],
 "metadata": {
  "kernelspec": {
   "display_name": "Python 3.12.0 64-bit",
   "language": "python",
   "name": "python3"
  },
  "language_info": {
   "codemirror_mode": {
    "name": "ipython",
    "version": 3
   },
   "file_extension": ".py",
   "mimetype": "text/x-python",
   "name": "python",
   "nbconvert_exporter": "python",
   "pygments_lexer": "ipython3",
   "version": "3.12.4"
  },
  "vscode": {
   "interpreter": {
    "hash": "aee8b7b246df8f9039afb4144a1f6fd8d2ca17a180786b69acc140d282b71a49"
   }
  }
 },
 "nbformat": 4,
 "nbformat_minor": 2
}
